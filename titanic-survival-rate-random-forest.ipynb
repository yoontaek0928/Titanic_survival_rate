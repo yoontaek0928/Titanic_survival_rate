{
 "cells": [
  {
   "cell_type": "code",
   "execution_count": 1,
   "id": "77cdefad",
   "metadata": {
    "_cell_guid": "b1076dfc-b9ad-4769-8c92-a6c4dae69d19",
    "_uuid": "8f2839f25d086af736a60e9eeb907d3b93b6e0e5",
    "execution": {
     "iopub.execute_input": "2022-05-13T02:51:20.160199Z",
     "iopub.status.busy": "2022-05-13T02:51:20.159733Z",
     "iopub.status.idle": "2022-05-13T02:51:21.287506Z",
     "shell.execute_reply": "2022-05-13T02:51:21.286637Z"
    },
    "papermill": {
     "duration": 1.195863,
     "end_time": "2022-05-13T02:51:21.289632",
     "exception": false,
     "start_time": "2022-05-13T02:51:20.093769",
     "status": "completed"
    },
    "tags": []
   },
   "outputs": [
    {
     "name": "stdout",
     "output_type": "stream",
     "text": [
      "/kaggle/input/test-file/tested.csv\n",
      "/kaggle/input/titanic/train.csv\n",
      "/kaggle/input/titanic/test.csv\n",
      "/kaggle/input/titanic/gender_submission.csv\n"
     ]
    }
   ],
   "source": [
    "# This Python 3 environment comes with many helpful analytics libraries installed\n",
    "# It is defined by the kaggle/python Docker image: https://github.com/kaggle/docker-python\n",
    "# For example, here's several helpful packages to load\n",
    "\n",
    "import numpy as np # linear algebra\n",
    "import pandas as pd # data processing, CSV file I/O (e.g. pd.read_csv)\n",
    "import matplotlib.pyplot as plt\n",
    "import seaborn as sns\n",
    "\n",
    "import missingno as msno\n",
    "\n",
    "import warnings\n",
    "warnings.filterwarnings('ignore')\n",
    "\n",
    "%matplotlib inline\n",
    "# Input data files are available in the read-only \"../input/\" directory\n",
    "# For example, running this (by clicking run or pressing Shift+Enter) will list all files under the input directory\n",
    "\n",
    "import os\n",
    "for dirname, _, filenames in os.walk('/kaggle/input'):\n",
    "    for filename in filenames:\n",
    "        print(os.path.join(dirname, filename))\n",
    "\n",
    "# You can write up to 20GB to the current directory (/kaggle/working/) that gets preserved as output when you create a version using \"Save & Run All\" \n",
    "# You can also write temporary files to /kaggle/temp/, but they won't be saved outside of the current session"
   ]
  },
  {
   "cell_type": "markdown",
   "id": "f79f27b9",
   "metadata": {
    "papermill": {
     "duration": 0.040732,
     "end_time": "2022-05-13T02:51:21.396514",
     "exception": false,
     "start_time": "2022-05-13T02:51:21.355782",
     "status": "completed"
    },
    "tags": []
   },
   "source": [
    "Process\n",
    "1. 데이터셋 확인 : null data 확인, 수정\n",
    "2. 탐색적 데이터 분석 : 여러 Feature 들을 개별적으로 분석하고, feature들 간의 상관관계 확인. 여러 시각화 툴을 사용하여 insight를 얻는다\n",
    "3. Feature engineering : 모델을 세우기 전, 모델의 성능을 높일 수 있도록 feature들 수정. one-hot encoding, class 나누기, 구간으로 나누니, 텍스트 데이터 처리 등\n",
    "4. Model 만들기 : sklearn 사용하여 모델 만들기.\n",
    "5. 모델 학습 & 예측 : trainset으로 모델을 학습시킨 후, testset으로 prediction\n",
    "6. 모델 평가 : 예측 성능이 원하는 수준인지 판단"
   ]
  },
  {
   "cell_type": "markdown",
   "id": "027dd4a2",
   "metadata": {
    "papermill": {
     "duration": 0.041911,
     "end_time": "2022-05-13T02:51:21.482047",
     "exception": false,
     "start_time": "2022-05-13T02:51:21.440136",
     "status": "completed"
    },
    "tags": []
   },
   "source": [
    "# **1. 데이터셋 확인**"
   ]
  },
  {
   "cell_type": "code",
   "execution_count": 2,
   "id": "a76d7c4d",
   "metadata": {
    "execution": {
     "iopub.execute_input": "2022-05-13T02:51:21.566859Z",
     "iopub.status.busy": "2022-05-13T02:51:21.566610Z",
     "iopub.status.idle": "2022-05-13T02:51:21.616177Z",
     "shell.execute_reply": "2022-05-13T02:51:21.615622Z"
    },
    "papermill": {
     "duration": 0.095101,
     "end_time": "2022-05-13T02:51:21.618564",
     "exception": false,
     "start_time": "2022-05-13T02:51:21.523463",
     "status": "completed"
    },
    "tags": []
   },
   "outputs": [
    {
     "data": {
      "text/html": [
       "<div>\n",
       "<style scoped>\n",
       "    .dataframe tbody tr th:only-of-type {\n",
       "        vertical-align: middle;\n",
       "    }\n",
       "\n",
       "    .dataframe tbody tr th {\n",
       "        vertical-align: top;\n",
       "    }\n",
       "\n",
       "    .dataframe thead th {\n",
       "        text-align: right;\n",
       "    }\n",
       "</style>\n",
       "<table border=\"1\" class=\"dataframe\">\n",
       "  <thead>\n",
       "    <tr style=\"text-align: right;\">\n",
       "      <th></th>\n",
       "      <th>PassengerId</th>\n",
       "      <th>Survived</th>\n",
       "      <th>Pclass</th>\n",
       "      <th>Name</th>\n",
       "      <th>Sex</th>\n",
       "      <th>Age</th>\n",
       "      <th>SibSp</th>\n",
       "      <th>Parch</th>\n",
       "      <th>Ticket</th>\n",
       "      <th>Fare</th>\n",
       "      <th>Cabin</th>\n",
       "      <th>Embarked</th>\n",
       "    </tr>\n",
       "  </thead>\n",
       "  <tbody>\n",
       "    <tr>\n",
       "      <th>0</th>\n",
       "      <td>1</td>\n",
       "      <td>0</td>\n",
       "      <td>3</td>\n",
       "      <td>Braund, Mr. Owen Harris</td>\n",
       "      <td>male</td>\n",
       "      <td>22.0</td>\n",
       "      <td>1</td>\n",
       "      <td>0</td>\n",
       "      <td>A/5 21171</td>\n",
       "      <td>7.2500</td>\n",
       "      <td>NaN</td>\n",
       "      <td>S</td>\n",
       "    </tr>\n",
       "    <tr>\n",
       "      <th>1</th>\n",
       "      <td>2</td>\n",
       "      <td>1</td>\n",
       "      <td>1</td>\n",
       "      <td>Cumings, Mrs. John Bradley (Florence Briggs Th...</td>\n",
       "      <td>female</td>\n",
       "      <td>38.0</td>\n",
       "      <td>1</td>\n",
       "      <td>0</td>\n",
       "      <td>PC 17599</td>\n",
       "      <td>71.2833</td>\n",
       "      <td>C85</td>\n",
       "      <td>C</td>\n",
       "    </tr>\n",
       "    <tr>\n",
       "      <th>2</th>\n",
       "      <td>3</td>\n",
       "      <td>1</td>\n",
       "      <td>3</td>\n",
       "      <td>Heikkinen, Miss. Laina</td>\n",
       "      <td>female</td>\n",
       "      <td>26.0</td>\n",
       "      <td>0</td>\n",
       "      <td>0</td>\n",
       "      <td>STON/O2. 3101282</td>\n",
       "      <td>7.9250</td>\n",
       "      <td>NaN</td>\n",
       "      <td>S</td>\n",
       "    </tr>\n",
       "    <tr>\n",
       "      <th>3</th>\n",
       "      <td>4</td>\n",
       "      <td>1</td>\n",
       "      <td>1</td>\n",
       "      <td>Futrelle, Mrs. Jacques Heath (Lily May Peel)</td>\n",
       "      <td>female</td>\n",
       "      <td>35.0</td>\n",
       "      <td>1</td>\n",
       "      <td>0</td>\n",
       "      <td>113803</td>\n",
       "      <td>53.1000</td>\n",
       "      <td>C123</td>\n",
       "      <td>S</td>\n",
       "    </tr>\n",
       "    <tr>\n",
       "      <th>4</th>\n",
       "      <td>5</td>\n",
       "      <td>0</td>\n",
       "      <td>3</td>\n",
       "      <td>Allen, Mr. William Henry</td>\n",
       "      <td>male</td>\n",
       "      <td>35.0</td>\n",
       "      <td>0</td>\n",
       "      <td>0</td>\n",
       "      <td>373450</td>\n",
       "      <td>8.0500</td>\n",
       "      <td>NaN</td>\n",
       "      <td>S</td>\n",
       "    </tr>\n",
       "  </tbody>\n",
       "</table>\n",
       "</div>"
      ],
      "text/plain": [
       "   PassengerId  Survived  Pclass  \\\n",
       "0            1         0       3   \n",
       "1            2         1       1   \n",
       "2            3         1       3   \n",
       "3            4         1       1   \n",
       "4            5         0       3   \n",
       "\n",
       "                                                Name     Sex   Age  SibSp  \\\n",
       "0                            Braund, Mr. Owen Harris    male  22.0      1   \n",
       "1  Cumings, Mrs. John Bradley (Florence Briggs Th...  female  38.0      1   \n",
       "2                             Heikkinen, Miss. Laina  female  26.0      0   \n",
       "3       Futrelle, Mrs. Jacques Heath (Lily May Peel)  female  35.0      1   \n",
       "4                           Allen, Mr. William Henry    male  35.0      0   \n",
       "\n",
       "   Parch            Ticket     Fare Cabin Embarked  \n",
       "0      0         A/5 21171   7.2500   NaN        S  \n",
       "1      0          PC 17599  71.2833   C85        C  \n",
       "2      0  STON/O2. 3101282   7.9250   NaN        S  \n",
       "3      0            113803  53.1000  C123        S  \n",
       "4      0            373450   8.0500   NaN        S  "
      ]
     },
     "execution_count": 2,
     "metadata": {},
     "output_type": "execute_result"
    }
   ],
   "source": [
    "df_train = pd.read_csv('../input/titanic/train.csv')\n",
    "df_test = pd.read_csv('../input/titanic/test.csv')\n",
    "df_train.head()"
   ]
  },
  {
   "cell_type": "code",
   "execution_count": 3,
   "id": "fd1ab231",
   "metadata": {
    "execution": {
     "iopub.execute_input": "2022-05-13T02:51:21.745690Z",
     "iopub.status.busy": "2022-05-13T02:51:21.745024Z",
     "iopub.status.idle": "2022-05-13T02:51:21.786263Z",
     "shell.execute_reply": "2022-05-13T02:51:21.785639Z"
    },
    "papermill": {
     "duration": 0.10615,
     "end_time": "2022-05-13T02:51:21.788387",
     "exception": false,
     "start_time": "2022-05-13T02:51:21.682237",
     "status": "completed"
    },
    "tags": []
   },
   "outputs": [
    {
     "data": {
      "text/html": [
       "<div>\n",
       "<style scoped>\n",
       "    .dataframe tbody tr th:only-of-type {\n",
       "        vertical-align: middle;\n",
       "    }\n",
       "\n",
       "    .dataframe tbody tr th {\n",
       "        vertical-align: top;\n",
       "    }\n",
       "\n",
       "    .dataframe thead th {\n",
       "        text-align: right;\n",
       "    }\n",
       "</style>\n",
       "<table border=\"1\" class=\"dataframe\">\n",
       "  <thead>\n",
       "    <tr style=\"text-align: right;\">\n",
       "      <th></th>\n",
       "      <th>PassengerId</th>\n",
       "      <th>Survived</th>\n",
       "      <th>Pclass</th>\n",
       "      <th>Age</th>\n",
       "      <th>SibSp</th>\n",
       "      <th>Parch</th>\n",
       "      <th>Fare</th>\n",
       "    </tr>\n",
       "  </thead>\n",
       "  <tbody>\n",
       "    <tr>\n",
       "      <th>count</th>\n",
       "      <td>891.000000</td>\n",
       "      <td>891.000000</td>\n",
       "      <td>891.000000</td>\n",
       "      <td>714.000000</td>\n",
       "      <td>891.000000</td>\n",
       "      <td>891.000000</td>\n",
       "      <td>891.000000</td>\n",
       "    </tr>\n",
       "    <tr>\n",
       "      <th>mean</th>\n",
       "      <td>446.000000</td>\n",
       "      <td>0.383838</td>\n",
       "      <td>2.308642</td>\n",
       "      <td>29.699118</td>\n",
       "      <td>0.523008</td>\n",
       "      <td>0.381594</td>\n",
       "      <td>32.204208</td>\n",
       "    </tr>\n",
       "    <tr>\n",
       "      <th>std</th>\n",
       "      <td>257.353842</td>\n",
       "      <td>0.486592</td>\n",
       "      <td>0.836071</td>\n",
       "      <td>14.526497</td>\n",
       "      <td>1.102743</td>\n",
       "      <td>0.806057</td>\n",
       "      <td>49.693429</td>\n",
       "    </tr>\n",
       "    <tr>\n",
       "      <th>min</th>\n",
       "      <td>1.000000</td>\n",
       "      <td>0.000000</td>\n",
       "      <td>1.000000</td>\n",
       "      <td>0.420000</td>\n",
       "      <td>0.000000</td>\n",
       "      <td>0.000000</td>\n",
       "      <td>0.000000</td>\n",
       "    </tr>\n",
       "    <tr>\n",
       "      <th>25%</th>\n",
       "      <td>223.500000</td>\n",
       "      <td>0.000000</td>\n",
       "      <td>2.000000</td>\n",
       "      <td>20.125000</td>\n",
       "      <td>0.000000</td>\n",
       "      <td>0.000000</td>\n",
       "      <td>7.910400</td>\n",
       "    </tr>\n",
       "    <tr>\n",
       "      <th>50%</th>\n",
       "      <td>446.000000</td>\n",
       "      <td>0.000000</td>\n",
       "      <td>3.000000</td>\n",
       "      <td>28.000000</td>\n",
       "      <td>0.000000</td>\n",
       "      <td>0.000000</td>\n",
       "      <td>14.454200</td>\n",
       "    </tr>\n",
       "    <tr>\n",
       "      <th>75%</th>\n",
       "      <td>668.500000</td>\n",
       "      <td>1.000000</td>\n",
       "      <td>3.000000</td>\n",
       "      <td>38.000000</td>\n",
       "      <td>1.000000</td>\n",
       "      <td>0.000000</td>\n",
       "      <td>31.000000</td>\n",
       "    </tr>\n",
       "    <tr>\n",
       "      <th>max</th>\n",
       "      <td>891.000000</td>\n",
       "      <td>1.000000</td>\n",
       "      <td>3.000000</td>\n",
       "      <td>80.000000</td>\n",
       "      <td>8.000000</td>\n",
       "      <td>6.000000</td>\n",
       "      <td>512.329200</td>\n",
       "    </tr>\n",
       "  </tbody>\n",
       "</table>\n",
       "</div>"
      ],
      "text/plain": [
       "       PassengerId    Survived      Pclass         Age       SibSp  \\\n",
       "count   891.000000  891.000000  891.000000  714.000000  891.000000   \n",
       "mean    446.000000    0.383838    2.308642   29.699118    0.523008   \n",
       "std     257.353842    0.486592    0.836071   14.526497    1.102743   \n",
       "min       1.000000    0.000000    1.000000    0.420000    0.000000   \n",
       "25%     223.500000    0.000000    2.000000   20.125000    0.000000   \n",
       "50%     446.000000    0.000000    3.000000   28.000000    0.000000   \n",
       "75%     668.500000    1.000000    3.000000   38.000000    1.000000   \n",
       "max     891.000000    1.000000    3.000000   80.000000    8.000000   \n",
       "\n",
       "            Parch        Fare  \n",
       "count  891.000000  891.000000  \n",
       "mean     0.381594   32.204208  \n",
       "std      0.806057   49.693429  \n",
       "min      0.000000    0.000000  \n",
       "25%      0.000000    7.910400  \n",
       "50%      0.000000   14.454200  \n",
       "75%      0.000000   31.000000  \n",
       "max      6.000000  512.329200  "
      ]
     },
     "execution_count": 3,
     "metadata": {},
     "output_type": "execute_result"
    }
   ],
   "source": [
    "df_train.describe()"
   ]
  },
  {
   "cell_type": "code",
   "execution_count": 4,
   "id": "24b7942f",
   "metadata": {
    "execution": {
     "iopub.execute_input": "2022-05-13T02:51:21.916268Z",
     "iopub.status.busy": "2022-05-13T02:51:21.915809Z",
     "iopub.status.idle": "2022-05-13T02:51:21.941314Z",
     "shell.execute_reply": "2022-05-13T02:51:21.940863Z"
    },
    "papermill": {
     "duration": 0.091235,
     "end_time": "2022-05-13T02:51:21.943437",
     "exception": false,
     "start_time": "2022-05-13T02:51:21.852202",
     "status": "completed"
    },
    "tags": []
   },
   "outputs": [
    {
     "data": {
      "text/html": [
       "<div>\n",
       "<style scoped>\n",
       "    .dataframe tbody tr th:only-of-type {\n",
       "        vertical-align: middle;\n",
       "    }\n",
       "\n",
       "    .dataframe tbody tr th {\n",
       "        vertical-align: top;\n",
       "    }\n",
       "\n",
       "    .dataframe thead th {\n",
       "        text-align: right;\n",
       "    }\n",
       "</style>\n",
       "<table border=\"1\" class=\"dataframe\">\n",
       "  <thead>\n",
       "    <tr style=\"text-align: right;\">\n",
       "      <th></th>\n",
       "      <th>PassengerId</th>\n",
       "      <th>Pclass</th>\n",
       "      <th>Age</th>\n",
       "      <th>SibSp</th>\n",
       "      <th>Parch</th>\n",
       "      <th>Fare</th>\n",
       "    </tr>\n",
       "  </thead>\n",
       "  <tbody>\n",
       "    <tr>\n",
       "      <th>count</th>\n",
       "      <td>418.000000</td>\n",
       "      <td>418.000000</td>\n",
       "      <td>332.000000</td>\n",
       "      <td>418.000000</td>\n",
       "      <td>418.000000</td>\n",
       "      <td>417.000000</td>\n",
       "    </tr>\n",
       "    <tr>\n",
       "      <th>mean</th>\n",
       "      <td>1100.500000</td>\n",
       "      <td>2.265550</td>\n",
       "      <td>30.272590</td>\n",
       "      <td>0.447368</td>\n",
       "      <td>0.392344</td>\n",
       "      <td>35.627188</td>\n",
       "    </tr>\n",
       "    <tr>\n",
       "      <th>std</th>\n",
       "      <td>120.810458</td>\n",
       "      <td>0.841838</td>\n",
       "      <td>14.181209</td>\n",
       "      <td>0.896760</td>\n",
       "      <td>0.981429</td>\n",
       "      <td>55.907576</td>\n",
       "    </tr>\n",
       "    <tr>\n",
       "      <th>min</th>\n",
       "      <td>892.000000</td>\n",
       "      <td>1.000000</td>\n",
       "      <td>0.170000</td>\n",
       "      <td>0.000000</td>\n",
       "      <td>0.000000</td>\n",
       "      <td>0.000000</td>\n",
       "    </tr>\n",
       "    <tr>\n",
       "      <th>25%</th>\n",
       "      <td>996.250000</td>\n",
       "      <td>1.000000</td>\n",
       "      <td>21.000000</td>\n",
       "      <td>0.000000</td>\n",
       "      <td>0.000000</td>\n",
       "      <td>7.895800</td>\n",
       "    </tr>\n",
       "    <tr>\n",
       "      <th>50%</th>\n",
       "      <td>1100.500000</td>\n",
       "      <td>3.000000</td>\n",
       "      <td>27.000000</td>\n",
       "      <td>0.000000</td>\n",
       "      <td>0.000000</td>\n",
       "      <td>14.454200</td>\n",
       "    </tr>\n",
       "    <tr>\n",
       "      <th>75%</th>\n",
       "      <td>1204.750000</td>\n",
       "      <td>3.000000</td>\n",
       "      <td>39.000000</td>\n",
       "      <td>1.000000</td>\n",
       "      <td>0.000000</td>\n",
       "      <td>31.500000</td>\n",
       "    </tr>\n",
       "    <tr>\n",
       "      <th>max</th>\n",
       "      <td>1309.000000</td>\n",
       "      <td>3.000000</td>\n",
       "      <td>76.000000</td>\n",
       "      <td>8.000000</td>\n",
       "      <td>9.000000</td>\n",
       "      <td>512.329200</td>\n",
       "    </tr>\n",
       "  </tbody>\n",
       "</table>\n",
       "</div>"
      ],
      "text/plain": [
       "       PassengerId      Pclass         Age       SibSp       Parch        Fare\n",
       "count   418.000000  418.000000  332.000000  418.000000  418.000000  417.000000\n",
       "mean   1100.500000    2.265550   30.272590    0.447368    0.392344   35.627188\n",
       "std     120.810458    0.841838   14.181209    0.896760    0.981429   55.907576\n",
       "min     892.000000    1.000000    0.170000    0.000000    0.000000    0.000000\n",
       "25%     996.250000    1.000000   21.000000    0.000000    0.000000    7.895800\n",
       "50%    1100.500000    3.000000   27.000000    0.000000    0.000000   14.454200\n",
       "75%    1204.750000    3.000000   39.000000    1.000000    0.000000   31.500000\n",
       "max    1309.000000    3.000000   76.000000    8.000000    9.000000  512.329200"
      ]
     },
     "execution_count": 4,
     "metadata": {},
     "output_type": "execute_result"
    }
   ],
   "source": [
    "df_test.describe()"
   ]
  },
  {
   "cell_type": "markdown",
   "id": "b20cd90b",
   "metadata": {
    "papermill": {
     "duration": 0.066207,
     "end_time": "2022-05-13T02:51:22.077059",
     "exception": false,
     "start_time": "2022-05-13T02:51:22.010852",
     "status": "completed"
    },
    "tags": []
   },
   "source": [
    "**1.1 Null data check**"
   ]
  },
  {
   "cell_type": "code",
   "execution_count": 5,
   "id": "8db6180a",
   "metadata": {
    "execution": {
     "iopub.execute_input": "2022-05-13T02:51:22.211276Z",
     "iopub.status.busy": "2022-05-13T02:51:22.210792Z",
     "iopub.status.idle": "2022-05-13T02:51:22.223022Z",
     "shell.execute_reply": "2022-05-13T02:51:22.222145Z"
    },
    "papermill": {
     "duration": 0.081994,
     "end_time": "2022-05-13T02:51:22.225148",
     "exception": false,
     "start_time": "2022-05-13T02:51:22.143154",
     "status": "completed"
    },
    "tags": []
   },
   "outputs": [
    {
     "name": "stdout",
     "output_type": "stream",
     "text": [
      "column: PassengerId\t Percent of NaN value: 0.00%\n",
      "column:    Survived\t Percent of NaN value: 0.00%\n",
      "column:      Pclass\t Percent of NaN value: 0.00%\n",
      "column:        Name\t Percent of NaN value: 0.00%\n",
      "column:         Sex\t Percent of NaN value: 0.00%\n",
      "column:         Age\t Percent of NaN value: 19.87%\n",
      "column:       SibSp\t Percent of NaN value: 0.00%\n",
      "column:       Parch\t Percent of NaN value: 0.00%\n",
      "column:      Ticket\t Percent of NaN value: 0.00%\n",
      "column:        Fare\t Percent of NaN value: 0.00%\n",
      "column:       Cabin\t Percent of NaN value: 77.10%\n",
      "column:    Embarked\t Percent of NaN value: 0.22%\n"
     ]
    }
   ],
   "source": [
    "for column in df_train.columns:\n",
    "    msg = 'column: {:>11}\\t Percent of NaN value: {:.2f}%'.format(column, 100 * (df_train[column].isnull().sum() / df_train[column].shape[0]))\n",
    "    print(msg)"
   ]
  },
  {
   "cell_type": "code",
   "execution_count": 6,
   "id": "179b2600",
   "metadata": {
    "execution": {
     "iopub.execute_input": "2022-05-13T02:51:22.356862Z",
     "iopub.status.busy": "2022-05-13T02:51:22.356128Z",
     "iopub.status.idle": "2022-05-13T02:51:22.367066Z",
     "shell.execute_reply": "2022-05-13T02:51:22.366492Z"
    },
    "papermill": {
     "duration": 0.077835,
     "end_time": "2022-05-13T02:51:22.369057",
     "exception": false,
     "start_time": "2022-05-13T02:51:22.291222",
     "status": "completed"
    },
    "tags": []
   },
   "outputs": [
    {
     "name": "stdout",
     "output_type": "stream",
     "text": [
      "column: PassengerId\t Percent of NaN value: 0.00%\n",
      "column:      Pclass\t Percent of NaN value: 0.00%\n",
      "column:        Name\t Percent of NaN value: 0.00%\n",
      "column:         Sex\t Percent of NaN value: 0.00%\n",
      "column:         Age\t Percent of NaN value: 20.57%\n",
      "column:       SibSp\t Percent of NaN value: 0.00%\n",
      "column:       Parch\t Percent of NaN value: 0.00%\n",
      "column:      Ticket\t Percent of NaN value: 0.00%\n",
      "column:        Fare\t Percent of NaN value: 0.24%\n",
      "column:       Cabin\t Percent of NaN value: 78.23%\n",
      "column:    Embarked\t Percent of NaN value: 0.00%\n"
     ]
    }
   ],
   "source": [
    "for column in df_test.columns:\n",
    "    msg = 'column: {:>11}\\t Percent of NaN value: {:.2f}%'.format(column, 100 * (df_test[column].isnull().sum() / df_test[column].shape[0]))\n",
    "    print(msg)"
   ]
  },
  {
   "cell_type": "markdown",
   "id": "daba294b",
   "metadata": {
    "papermill": {
     "duration": 0.063482,
     "end_time": "2022-05-13T02:51:22.496055",
     "exception": false,
     "start_time": "2022-05-13T02:51:22.432573",
     "status": "completed"
    },
    "tags": []
   },
   "source": [
    "missingno 라이브러리를 통해 더 쉽게 null data를 확인할 수 있다."
   ]
  },
  {
   "cell_type": "code",
   "execution_count": 7,
   "id": "9d4b5d92",
   "metadata": {
    "execution": {
     "iopub.execute_input": "2022-05-13T02:51:22.626606Z",
     "iopub.status.busy": "2022-05-13T02:51:22.626022Z",
     "iopub.status.idle": "2022-05-13T02:51:22.917191Z",
     "shell.execute_reply": "2022-05-13T02:51:22.916677Z"
    },
    "papermill": {
     "duration": 0.358325,
     "end_time": "2022-05-13T02:51:22.918914",
     "exception": false,
     "start_time": "2022-05-13T02:51:22.560589",
     "status": "completed"
    },
    "tags": []
   },
   "outputs": [
    {
     "data": {
      "text/plain": [
       "<AxesSubplot:>"
      ]
     },
     "execution_count": 7,
     "metadata": {},
     "output_type": "execute_result"
    },
    {
     "data": {
      "image/png": "[encoded data removed]",
      "text/plain": [
       "<Figure size 504x504 with 2 Axes>"
      ]
     },
     "metadata": {
      "needs_background": "light"
     },
     "output_type": "display_data"
    }
   ],
   "source": [
    "msno.matrix(df=df_train.iloc[:, :], figsize=(7,7), color=(0.01,0.3,0.6))"
   ]
  },
  {
   "cell_type": "code",
   "execution_count": 8,
   "id": "4920fee0",
   "metadata": {
    "execution": {
     "iopub.execute_input": "2022-05-13T02:51:23.016998Z",
     "iopub.status.busy": "2022-05-13T02:51:23.016542Z",
     "iopub.status.idle": "2022-05-13T02:51:23.626122Z",
     "shell.execute_reply": "2022-05-13T02:51:23.625579Z"
    },
    "papermill": {
     "duration": 0.655142,
     "end_time": "2022-05-13T02:51:23.627890",
     "exception": false,
     "start_time": "2022-05-13T02:51:22.972748",
     "status": "completed"
    },
    "tags": []
   },
   "outputs": [
    {
     "data": {
      "text/plain": [
       "<AxesSubplot:>"
      ]
     },
     "execution_count": 8,
     "metadata": {},
     "output_type": "execute_result"
    },
    {
     "data": {
      "image/png": "[encoded data removed]",
      "text/plain": [
       "<Figure size 504x504 with 3 Axes>"
      ]
     },
     "metadata": {
      "needs_background": "light"
     },
     "output_type": "display_data"
    }
   ],
   "source": [
    "msno.bar(df=df_train.iloc[:, :], figsize=(7,7), color=(0.01,0.3,0.6) )"
   ]
  },
  {
   "cell_type": "markdown",
   "id": "d56e1e76",
   "metadata": {
    "papermill": {
     "duration": 0.044422,
     "end_time": "2022-05-13T02:51:23.727047",
     "exception": false,
     "start_time": "2022-05-13T02:51:23.682625",
     "status": "completed"
    },
    "tags": []
   },
   "source": [
    "**1.2 Target label 확인**\n",
    "- Target label이 어떤 distribution을 가지고 있는지 확인\n",
    "- 지금과 같은 binary classification 문제의 경우, 1과 0의 분포가 어떠냐에 따라 모델의 평가 방법이 달라질 수 있음"
   ]
  },
  {
   "cell_type": "code",
   "execution_count": 9,
   "id": "26579946",
   "metadata": {
    "execution": {
     "iopub.execute_input": "2022-05-13T02:51:23.815277Z",
     "iopub.status.busy": "2022-05-13T02:51:23.814487Z",
     "iopub.status.idle": "2022-05-13T02:51:24.023137Z",
     "shell.execute_reply": "2022-05-13T02:51:24.022665Z"
    },
    "papermill": {
     "duration": 0.254634,
     "end_time": "2022-05-13T02:51:24.024567",
     "exception": false,
     "start_time": "2022-05-13T02:51:23.769933",
     "status": "completed"
    },
    "tags": []
   },
   "outputs": [
    {
     "data": {
      "image/png": "[encoded data removed]",
      "text/plain": [
       "<Figure size 1296x576 with 2 Axes>"
      ]
     },
     "metadata": {
      "needs_background": "light"
     },
     "output_type": "display_data"
    }
   ],
   "source": [
    "f, ax = plt.subplots(1,2,figsize=(18,8))\n",
    "\n",
    "df_train['Survived'].value_counts().plot.pie(explode=[0,0.1], autopct='%1.1f%%', ax=ax[0], shadow=True)\n",
    "ax[0].set_title('Pie plot - Survived')\n",
    "ax[0].set_ylabel('')\n",
    "sns.countplot('Survived', data=df_train, ax=ax[1])\n",
    "ax[1].set_title('Count plot - Survived')\n",
    "\n",
    "plt.show()\n"
   ]
  },
  {
   "cell_type": "markdown",
   "id": "c1ff7659",
   "metadata": {
    "papermill": {
     "duration": 0.044393,
     "end_time": "2022-05-13T02:51:24.113709",
     "exception": false,
     "start_time": "2022-05-13T02:51:24.069316",
     "status": "completed"
    },
    "tags": []
   },
   "source": [
    "# **2. Exploratory data analysis**\n",
    "- 시각화 라이브러리는 matplotlib, seaborn, plotly 등을 목적에 맞게 사용하여 참고한다"
   ]
  },
  {
   "cell_type": "markdown",
   "id": "4bf5c85d",
   "metadata": {
    "papermill": {
     "duration": 0.044102,
     "end_time": "2022-05-13T02:51:24.202037",
     "exception": false,
     "start_time": "2022-05-13T02:51:24.157935",
     "status": "completed"
    },
    "tags": []
   },
   "source": [
    "**2.1 Pclass**\n",
    "- Pclass는 카테고리이면서, 순서가 있는 데이터 타입이다\n",
    "- Pclass에 따른 생존률을 살펴보기 위해, pandas dataframe의 groupby를 사용한다\n",
    "- 'Pclass'와 'Survived'를 pclass로 묶는다. 각 pclass마다 0,1이 카운트 되는데, 이를 평균 내어 각 pclass별 생존률을 확인한다."
   ]
  },
  {
   "cell_type": "code",
   "execution_count": 10,
   "id": "87e76b27",
   "metadata": {
    "execution": {
     "iopub.execute_input": "2022-05-13T02:51:24.294013Z",
     "iopub.status.busy": "2022-05-13T02:51:24.293618Z",
     "iopub.status.idle": "2022-05-13T02:51:24.301764Z",
     "shell.execute_reply": "2022-05-13T02:51:24.301104Z"
    },
    "papermill": {
     "duration": 0.055848,
     "end_time": "2022-05-13T02:51:24.303196",
     "exception": false,
     "start_time": "2022-05-13T02:51:24.247348",
     "status": "completed"
    },
    "tags": []
   },
   "outputs": [
    {
     "data": {
      "text/html": [
       "<div>\n",
       "<style scoped>\n",
       "    .dataframe tbody tr th:only-of-type {\n",
       "        vertical-align: middle;\n",
       "    }\n",
       "\n",
       "    .dataframe tbody tr th {\n",
       "        vertical-align: top;\n",
       "    }\n",
       "\n",
       "    .dataframe thead th {\n",
       "        text-align: right;\n",
       "    }\n",
       "</style>\n",
       "<table border=\"1\" class=\"dataframe\">\n",
       "  <thead>\n",
       "    <tr style=\"text-align: right;\">\n",
       "      <th></th>\n",
       "      <th>Survived</th>\n",
       "    </tr>\n",
       "    <tr>\n",
       "      <th>Pclass</th>\n",
       "      <th></th>\n",
       "    </tr>\n",
       "  </thead>\n",
       "  <tbody>\n",
       "    <tr>\n",
       "      <th>1</th>\n",
       "      <td>216</td>\n",
       "    </tr>\n",
       "    <tr>\n",
       "      <th>2</th>\n",
       "      <td>184</td>\n",
       "    </tr>\n",
       "    <tr>\n",
       "      <th>3</th>\n",
       "      <td>491</td>\n",
       "    </tr>\n",
       "  </tbody>\n",
       "</table>\n",
       "</div>"
      ],
      "text/plain": [
       "        Survived\n",
       "Pclass          \n",
       "1            216\n",
       "2            184\n",
       "3            491"
      ]
     },
     "execution_count": 10,
     "metadata": {},
     "output_type": "execute_result"
    }
   ],
   "source": [
    "df_train[['Pclass','Survived']].groupby(['Pclass'], as_index=True).count()"
   ]
  },
  {
   "cell_type": "code",
   "execution_count": 11,
   "id": "4db43f7e",
   "metadata": {
    "execution": {
     "iopub.execute_input": "2022-05-13T02:51:24.395506Z",
     "iopub.status.busy": "2022-05-13T02:51:24.395045Z",
     "iopub.status.idle": "2022-05-13T02:51:24.408786Z",
     "shell.execute_reply": "2022-05-13T02:51:24.408065Z"
    },
    "papermill": {
     "duration": 0.06178,
     "end_time": "2022-05-13T02:51:24.410552",
     "exception": false,
     "start_time": "2022-05-13T02:51:24.348772",
     "status": "completed"
    },
    "tags": []
   },
   "outputs": [
    {
     "data": {
      "text/html": [
       "<div>\n",
       "<style scoped>\n",
       "    .dataframe tbody tr th:only-of-type {\n",
       "        vertical-align: middle;\n",
       "    }\n",
       "\n",
       "    .dataframe tbody tr th {\n",
       "        vertical-align: top;\n",
       "    }\n",
       "\n",
       "    .dataframe thead th {\n",
       "        text-align: right;\n",
       "    }\n",
       "</style>\n",
       "<table border=\"1\" class=\"dataframe\">\n",
       "  <thead>\n",
       "    <tr style=\"text-align: right;\">\n",
       "      <th></th>\n",
       "      <th>Survived</th>\n",
       "    </tr>\n",
       "    <tr>\n",
       "      <th>Pclass</th>\n",
       "      <th></th>\n",
       "    </tr>\n",
       "  </thead>\n",
       "  <tbody>\n",
       "    <tr>\n",
       "      <th>1</th>\n",
       "      <td>136</td>\n",
       "    </tr>\n",
       "    <tr>\n",
       "      <th>2</th>\n",
       "      <td>87</td>\n",
       "    </tr>\n",
       "    <tr>\n",
       "      <th>3</th>\n",
       "      <td>119</td>\n",
       "    </tr>\n",
       "  </tbody>\n",
       "</table>\n",
       "</div>"
      ],
      "text/plain": [
       "        Survived\n",
       "Pclass          \n",
       "1            136\n",
       "2             87\n",
       "3            119"
      ]
     },
     "execution_count": 11,
     "metadata": {},
     "output_type": "execute_result"
    }
   ],
   "source": [
    "df_train[['Pclass','Survived']].groupby(['Pclass'],as_index=True).sum()"
   ]
  },
  {
   "cell_type": "markdown",
   "id": "694484cc",
   "metadata": {
    "papermill": {
     "duration": 0.046206,
     "end_time": "2022-05-13T02:51:24.502552",
     "exception": false,
     "start_time": "2022-05-13T02:51:24.456346",
     "status": "completed"
    },
    "tags": []
   },
   "source": [
    "pandas의 crosstab을 사용하면 위의 결과를 조금 더 쉽게 볼 수 있다"
   ]
  },
  {
   "cell_type": "code",
   "execution_count": 12,
   "id": "11903601",
   "metadata": {
    "execution": {
     "iopub.execute_input": "2022-05-13T02:51:24.595354Z",
     "iopub.status.busy": "2022-05-13T02:51:24.595030Z",
     "iopub.status.idle": "2022-05-13T02:51:24.719586Z",
     "shell.execute_reply": "2022-05-13T02:51:24.718883Z"
    },
    "papermill": {
     "duration": 0.172967,
     "end_time": "2022-05-13T02:51:24.721180",
     "exception": false,
     "start_time": "2022-05-13T02:51:24.548213",
     "status": "completed"
    },
    "tags": []
   },
   "outputs": [
    {
     "data": {
      "text/html": [
       "<style type=\"text/css\">\n",
       "#T_985c3_row0_col0, #T_985c3_row1_col1, #T_985c3_row1_col2 {\n",
       "  background-color: #ffff66;\n",
       "  color: #000000;\n",
       "}\n",
       "#T_985c3_row0_col1 {\n",
       "  background-color: #cee666;\n",
       "  color: #000000;\n",
       "}\n",
       "#T_985c3_row0_col2 {\n",
       "  background-color: #f4fa66;\n",
       "  color: #000000;\n",
       "}\n",
       "#T_985c3_row1_col0 {\n",
       "  background-color: #f6fa66;\n",
       "  color: #000000;\n",
       "}\n",
       "#T_985c3_row2_col0 {\n",
       "  background-color: #60b066;\n",
       "  color: #f1f1f1;\n",
       "}\n",
       "#T_985c3_row2_col1 {\n",
       "  background-color: #dfef66;\n",
       "  color: #000000;\n",
       "}\n",
       "#T_985c3_row2_col2 {\n",
       "  background-color: #90c866;\n",
       "  color: #000000;\n",
       "}\n",
       "#T_985c3_row3_col0, #T_985c3_row3_col1, #T_985c3_row3_col2 {\n",
       "  background-color: #008066;\n",
       "  color: #f1f1f1;\n",
       "}\n",
       "</style>\n",
       "<table id=\"T_985c3_\">\n",
       "  <thead>\n",
       "    <tr>\n",
       "      <th class=\"index_name level0\" >Survived</th>\n",
       "      <th class=\"col_heading level0 col0\" >0</th>\n",
       "      <th class=\"col_heading level0 col1\" >1</th>\n",
       "      <th class=\"col_heading level0 col2\" >All</th>\n",
       "    </tr>\n",
       "    <tr>\n",
       "      <th class=\"index_name level0\" >Pclass</th>\n",
       "      <th class=\"blank col0\" >&nbsp;</th>\n",
       "      <th class=\"blank col1\" >&nbsp;</th>\n",
       "      <th class=\"blank col2\" >&nbsp;</th>\n",
       "    </tr>\n",
       "  </thead>\n",
       "  <tbody>\n",
       "    <tr>\n",
       "      <th id=\"T_985c3_level0_row0\" class=\"row_heading level0 row0\" >1</th>\n",
       "      <td id=\"T_985c3_row0_col0\" class=\"data row0 col0\" >80</td>\n",
       "      <td id=\"T_985c3_row0_col1\" class=\"data row0 col1\" >136</td>\n",
       "      <td id=\"T_985c3_row0_col2\" class=\"data row0 col2\" >216</td>\n",
       "    </tr>\n",
       "    <tr>\n",
       "      <th id=\"T_985c3_level0_row1\" class=\"row_heading level0 row1\" >2</th>\n",
       "      <td id=\"T_985c3_row1_col0\" class=\"data row1 col0\" >97</td>\n",
       "      <td id=\"T_985c3_row1_col1\" class=\"data row1 col1\" >87</td>\n",
       "      <td id=\"T_985c3_row1_col2\" class=\"data row1 col2\" >184</td>\n",
       "    </tr>\n",
       "    <tr>\n",
       "      <th id=\"T_985c3_level0_row2\" class=\"row_heading level0 row2\" >3</th>\n",
       "      <td id=\"T_985c3_row2_col0\" class=\"data row2 col0\" >372</td>\n",
       "      <td id=\"T_985c3_row2_col1\" class=\"data row2 col1\" >119</td>\n",
       "      <td id=\"T_985c3_row2_col2\" class=\"data row2 col2\" >491</td>\n",
       "    </tr>\n",
       "    <tr>\n",
       "      <th id=\"T_985c3_level0_row3\" class=\"row_heading level0 row3\" >All</th>\n",
       "      <td id=\"T_985c3_row3_col0\" class=\"data row3 col0\" >549</td>\n",
       "      <td id=\"T_985c3_row3_col1\" class=\"data row3 col1\" >342</td>\n",
       "      <td id=\"T_985c3_row3_col2\" class=\"data row3 col2\" >891</td>\n",
       "    </tr>\n",
       "  </tbody>\n",
       "</table>\n"
      ],
      "text/plain": [
       "<pandas.io.formats.style.Styler at 0x7fd2dd891d50>"
      ]
     },
     "execution_count": 12,
     "metadata": {},
     "output_type": "execute_result"
    }
   ],
   "source": [
    "pd.crosstab(df_train['Pclass'],df_train['Survived'], margins=True).style.background_gradient(cmap='summer_r')"
   ]
  },
  {
   "cell_type": "markdown",
   "id": "ac15d2e4",
   "metadata": {
    "papermill": {
     "duration": 0.045859,
     "end_time": "2022-05-13T02:51:24.814267",
     "exception": false,
     "start_time": "2022-05-13T02:51:24.768408",
     "status": "completed"
    },
    "tags": []
   },
   "source": [
    "그룹화된 객체의 클래스별 생존률을 확인한다"
   ]
  },
  {
   "cell_type": "code",
   "execution_count": 13,
   "id": "78bc05f7",
   "metadata": {
    "execution": {
     "iopub.execute_input": "2022-05-13T02:51:24.908426Z",
     "iopub.status.busy": "2022-05-13T02:51:24.908118Z",
     "iopub.status.idle": "2022-05-13T02:51:25.037219Z",
     "shell.execute_reply": "2022-05-13T02:51:25.036434Z"
    },
    "papermill": {
     "duration": 0.178138,
     "end_time": "2022-05-13T02:51:25.039117",
     "exception": false,
     "start_time": "2022-05-13T02:51:24.860979",
     "status": "completed"
    },
    "tags": []
   },
   "outputs": [
    {
     "data": {
      "text/plain": [
       "<AxesSubplot:xlabel='Pclass'>"
      ]
     },
     "execution_count": 13,
     "metadata": {},
     "output_type": "execute_result"
    },
    {
     "data": {
      "image/png": "[encoded data removed]",
      "text/plain": [
       "<Figure size 432x288 with 1 Axes>"
      ]
     },
     "metadata": {
      "needs_background": "light"
     },
     "output_type": "display_data"
    }
   ],
   "source": [
    "df_train[['Pclass','Survived']].groupby(['Pclass'],as_index=True).mean().sort_values(by='Survived', ascending=False).plot.bar()"
   ]
  },
  {
   "cell_type": "markdown",
   "id": "c106476e",
   "metadata": {
    "papermill": {
     "duration": 0.047057,
     "end_time": "2022-05-13T02:51:25.133474",
     "exception": false,
     "start_time": "2022-05-13T02:51:25.086417",
     "status": "completed"
    },
    "tags": []
   },
   "source": [
    "더 좋은 클래스에 탄 승객이 생존할 확률이 더 높다.\n",
    "\n",
    "seaborn의 countplot을 이용하여 특정 label에 따른 개수를 확인할 수 있다."
   ]
  },
  {
   "cell_type": "code",
   "execution_count": 14,
   "id": "508f15d1",
   "metadata": {
    "execution": {
     "iopub.execute_input": "2022-05-13T02:51:25.230403Z",
     "iopub.status.busy": "2022-05-13T02:51:25.229982Z",
     "iopub.status.idle": "2022-05-13T02:51:25.490122Z",
     "shell.execute_reply": "2022-05-13T02:51:25.489251Z"
    },
    "papermill": {
     "duration": 0.310855,
     "end_time": "2022-05-13T02:51:25.492177",
     "exception": false,
     "start_time": "2022-05-13T02:51:25.181322",
     "status": "completed"
    },
    "tags": []
   },
   "outputs": [
    {
     "data": {
      "image/png": "[encoded data removed]",
      "text/plain": [
       "<Figure size 1296x576 with 2 Axes>"
      ]
     },
     "metadata": {
      "needs_background": "light"
     },
     "output_type": "display_data"
    }
   ],
   "source": [
    "y_position = 1.0\n",
    "f, ax = plt.subplots(1,2,figsize=(18,8))\n",
    "df_train['Pclass'].value_counts().plot.bar(color=['#CD7F32','#D3D3D3'], ax=ax[0])\n",
    "ax[0].set_title('Number of Passengers By Pclass',y=y_position)\n",
    "ax[0].set_ylabel('Count')\n",
    "sns.countplot('Pclass', hue='Survived', data=df_train, ax=ax[1])\n",
    "ax[1].set_title('Pclass: Survived vs Dead', y=y_position)\n",
    "plt.show()"
   ]
  },
  {
   "cell_type": "markdown",
   "id": "97399b6c",
   "metadata": {
    "papermill": {
     "duration": 0.04783,
     "end_time": "2022-05-13T02:51:25.588987",
     "exception": false,
     "start_time": "2022-05-13T02:51:25.541157",
     "status": "completed"
    },
    "tags": []
   },
   "source": [
    "생존에 Pclass가 영향을 미친다는 것은 꽤나 합당하다고 볼 수 있다. 따라서 후에 모델을 세울 때 Pclass feature를 사용하는 것이 바람직하다"
   ]
  },
  {
   "cell_type": "markdown",
   "id": "de855e72",
   "metadata": {
    "papermill": {
     "duration": 0.048379,
     "end_time": "2022-05-13T02:51:25.686366",
     "exception": false,
     "start_time": "2022-05-13T02:51:25.637987",
     "status": "completed"
    },
    "tags": []
   },
   "source": [
    "**2.2 Sex**\n",
    "- 성별에 따른 생존률 확인\n",
    "- 마찬가지로 pandas groupby와 seaborn countplot을 사용하여 시각화한다."
   ]
  },
  {
   "cell_type": "code",
   "execution_count": 15,
   "id": "e905710c",
   "metadata": {
    "execution": {
     "iopub.execute_input": "2022-05-13T02:51:25.784774Z",
     "iopub.status.busy": "2022-05-13T02:51:25.784473Z",
     "iopub.status.idle": "2022-05-13T02:51:26.073676Z",
     "shell.execute_reply": "2022-05-13T02:51:26.073126Z"
    },
    "papermill": {
     "duration": 0.340455,
     "end_time": "2022-05-13T02:51:26.075332",
     "exception": false,
     "start_time": "2022-05-13T02:51:25.734877",
     "status": "completed"
    },
    "tags": []
   },
   "outputs": [
    {
     "data": {
      "image/png": "[encoded data removed]",
      "text/plain": [
       "<Figure size 1296x576 with 2 Axes>"
      ]
     },
     "metadata": {
      "needs_background": "light"
     },
     "output_type": "display_data"
    }
   ],
   "source": [
    "f, ax = plt.subplots(1,2,figsize=(18,8))\n",
    "df_train[['Sex','Survived']].groupby(['Sex'], as_index=True).mean().plot.bar(ax=ax[0])\n",
    "ax[0].set_title('Survived vs Sex')\n",
    "sns.countplot('Sex', hue='Survived',data=df_train,ax=ax[1])\n",
    "ax[1].set_title('Sex: Survived vs Dead')\n",
    "plt.show()"
   ]
  },
  {
   "cell_type": "code",
   "execution_count": 16,
   "id": "56305341",
   "metadata": {
    "execution": {
     "iopub.execute_input": "2022-05-13T02:51:26.176134Z",
     "iopub.status.busy": "2022-05-13T02:51:26.175179Z",
     "iopub.status.idle": "2022-05-13T02:51:26.190436Z",
     "shell.execute_reply": "2022-05-13T02:51:26.189847Z"
    },
    "papermill": {
     "duration": 0.068128,
     "end_time": "2022-05-13T02:51:26.192501",
     "exception": false,
     "start_time": "2022-05-13T02:51:26.124373",
     "status": "completed"
    },
    "tags": []
   },
   "outputs": [
    {
     "data": {
      "text/html": [
       "<div>\n",
       "<style scoped>\n",
       "    .dataframe tbody tr th:only-of-type {\n",
       "        vertical-align: middle;\n",
       "    }\n",
       "\n",
       "    .dataframe tbody tr th {\n",
       "        vertical-align: top;\n",
       "    }\n",
       "\n",
       "    .dataframe thead th {\n",
       "        text-align: right;\n",
       "    }\n",
       "</style>\n",
       "<table border=\"1\" class=\"dataframe\">\n",
       "  <thead>\n",
       "    <tr style=\"text-align: right;\">\n",
       "      <th></th>\n",
       "      <th>Sex</th>\n",
       "      <th>Survived</th>\n",
       "    </tr>\n",
       "  </thead>\n",
       "  <tbody>\n",
       "    <tr>\n",
       "      <th>0</th>\n",
       "      <td>female</td>\n",
       "      <td>0.742038</td>\n",
       "    </tr>\n",
       "    <tr>\n",
       "      <th>1</th>\n",
       "      <td>male</td>\n",
       "      <td>0.188908</td>\n",
       "    </tr>\n",
       "  </tbody>\n",
       "</table>\n",
       "</div>"
      ],
      "text/plain": [
       "      Sex  Survived\n",
       "0  female  0.742038\n",
       "1    male  0.188908"
      ]
     },
     "execution_count": 16,
     "metadata": {},
     "output_type": "execute_result"
    }
   ],
   "source": [
    "df_train[['Sex','Survived']].groupby(['Sex'], as_index=False).mean().sort_values(by='Survived', ascending=False)"
   ]
  },
  {
   "cell_type": "code",
   "execution_count": 17,
   "id": "c9715c9d",
   "metadata": {
    "execution": {
     "iopub.execute_input": "2022-05-13T02:51:26.343386Z",
     "iopub.status.busy": "2022-05-13T02:51:26.342427Z",
     "iopub.status.idle": "2022-05-13T02:51:26.390515Z",
     "shell.execute_reply": "2022-05-13T02:51:26.389696Z"
    },
    "papermill": {
     "duration": 0.126042,
     "end_time": "2022-05-13T02:51:26.392950",
     "exception": false,
     "start_time": "2022-05-13T02:51:26.266908",
     "status": "completed"
    },
    "tags": []
   },
   "outputs": [
    {
     "data": {
      "text/html": [
       "<style type=\"text/css\">\n",
       "#T_f281b_row0_col0, #T_f281b_row0_col2, #T_f281b_row1_col1 {\n",
       "  background-color: #ffff66;\n",
       "  color: #000000;\n",
       "}\n",
       "#T_f281b_row0_col1 {\n",
       "  background-color: #77bb66;\n",
       "  color: #f1f1f1;\n",
       "}\n",
       "#T_f281b_row1_col0 {\n",
       "  background-color: #2c9666;\n",
       "  color: #f1f1f1;\n",
       "}\n",
       "#T_f281b_row1_col2 {\n",
       "  background-color: #8bc566;\n",
       "  color: #000000;\n",
       "}\n",
       "#T_f281b_row2_col0, #T_f281b_row2_col1, #T_f281b_row2_col2 {\n",
       "  background-color: #008066;\n",
       "  color: #f1f1f1;\n",
       "}\n",
       "</style>\n",
       "<table id=\"T_f281b_\">\n",
       "  <thead>\n",
       "    <tr>\n",
       "      <th class=\"index_name level0\" >Survived</th>\n",
       "      <th class=\"col_heading level0 col0\" >0</th>\n",
       "      <th class=\"col_heading level0 col1\" >1</th>\n",
       "      <th class=\"col_heading level0 col2\" >All</th>\n",
       "    </tr>\n",
       "    <tr>\n",
       "      <th class=\"index_name level0\" >Sex</th>\n",
       "      <th class=\"blank col0\" >&nbsp;</th>\n",
       "      <th class=\"blank col1\" >&nbsp;</th>\n",
       "      <th class=\"blank col2\" >&nbsp;</th>\n",
       "    </tr>\n",
       "  </thead>\n",
       "  <tbody>\n",
       "    <tr>\n",
       "      <th id=\"T_f281b_level0_row0\" class=\"row_heading level0 row0\" >female</th>\n",
       "      <td id=\"T_f281b_row0_col0\" class=\"data row0 col0\" >81</td>\n",
       "      <td id=\"T_f281b_row0_col1\" class=\"data row0 col1\" >233</td>\n",
       "      <td id=\"T_f281b_row0_col2\" class=\"data row0 col2\" >314</td>\n",
       "    </tr>\n",
       "    <tr>\n",
       "      <th id=\"T_f281b_level0_row1\" class=\"row_heading level0 row1\" >male</th>\n",
       "      <td id=\"T_f281b_row1_col0\" class=\"data row1 col0\" >468</td>\n",
       "      <td id=\"T_f281b_row1_col1\" class=\"data row1 col1\" >109</td>\n",
       "      <td id=\"T_f281b_row1_col2\" class=\"data row1 col2\" >577</td>\n",
       "    </tr>\n",
       "    <tr>\n",
       "      <th id=\"T_f281b_level0_row2\" class=\"row_heading level0 row2\" >All</th>\n",
       "      <td id=\"T_f281b_row2_col0\" class=\"data row2 col0\" >549</td>\n",
       "      <td id=\"T_f281b_row2_col1\" class=\"data row2 col1\" >342</td>\n",
       "      <td id=\"T_f281b_row2_col2\" class=\"data row2 col2\" >891</td>\n",
       "    </tr>\n",
       "  </tbody>\n",
       "</table>\n"
      ],
      "text/plain": [
       "<pandas.io.formats.style.Styler at 0x7fd2dd4bd7d0>"
      ]
     },
     "execution_count": 17,
     "metadata": {},
     "output_type": "execute_result"
    }
   ],
   "source": [
    "pd.crosstab(df_train['Sex'], df_train['Survived'], margins=True).style.background_gradient(cmap='summer_r')"
   ]
  },
  {
   "cell_type": "markdown",
   "id": "15357de1",
   "metadata": {
    "papermill": {
     "duration": 0.07488,
     "end_time": "2022-05-13T02:51:26.544281",
     "exception": false,
     "start_time": "2022-05-13T02:51:26.469401",
     "status": "completed"
    },
    "tags": []
   },
   "source": [
    "- Pclass와 같이, 성별 또한 중요한 feature임을 확인할 수 있다"
   ]
  },
  {
   "cell_type": "markdown",
   "id": "925152a8",
   "metadata": {
    "papermill": {
     "duration": 0.075117,
     "end_time": "2022-05-13T02:51:26.694529",
     "exception": false,
     "start_time": "2022-05-13T02:51:26.619412",
     "status": "completed"
    },
    "tags": []
   },
   "source": [
    "**2.3 Both Sex and Pclass**\n",
    "- Sex와 Pclass 2개를 통합하여 생존률이 어떻게 달라지는지 확인\n",
    "- seaborn의 factorplot을 이용하면, 3차원으로 이루어진 그래프를 그릴 수 있다"
   ]
  },
  {
   "cell_type": "code",
   "execution_count": 18,
   "id": "db35b3dc",
   "metadata": {
    "execution": {
     "iopub.execute_input": "2022-05-13T02:51:26.847720Z",
     "iopub.status.busy": "2022-05-13T02:51:26.847299Z",
     "iopub.status.idle": "2022-05-13T02:51:27.577117Z",
     "shell.execute_reply": "2022-05-13T02:51:27.576303Z"
    },
    "papermill": {
     "duration": 0.808871,
     "end_time": "2022-05-13T02:51:27.579130",
     "exception": false,
     "start_time": "2022-05-13T02:51:26.770259",
     "status": "completed"
    },
    "tags": []
   },
   "outputs": [
    {
     "data": {
      "text/plain": [
       "<seaborn.axisgrid.FacetGrid at 0x7fd2dd641250>"
      ]
     },
     "execution_count": 18,
     "metadata": {},
     "output_type": "execute_result"
    },
    {
     "data": {
      "image/png": "[encoded data removed]",
      "text/plain": [
       "<Figure size 430.5x360 with 1 Axes>"
      ]
     },
     "metadata": {
      "needs_background": "light"
     },
     "output_type": "display_data"
    }
   ],
   "source": [
    "sns.factorplot('Pclass','Survived',hue='Sex',data=df_train)"
   ]
  },
  {
   "cell_type": "markdown",
   "id": "3f8d4e8d",
   "metadata": {
    "papermill": {
     "duration": 0.077719,
     "end_time": "2022-05-13T02:51:27.735560",
     "exception": false,
     "start_time": "2022-05-13T02:51:27.657841",
     "status": "completed"
    },
    "tags": []
   },
   "source": [
    "- 모든 클래스에서 female이 생존할 확률이 확연하게 높다\n",
    "- 또한 male, female 상관 없이, 클래스가 높을수록 생존할 확률이 높다\n",
    "- hue 대신 column으로 확인해보면 아래와 같다"
   ]
  },
  {
   "cell_type": "code",
   "execution_count": 19,
   "id": "f8f55e35",
   "metadata": {
    "execution": {
     "iopub.execute_input": "2022-05-13T02:51:27.895294Z",
     "iopub.status.busy": "2022-05-13T02:51:27.894731Z",
     "iopub.status.idle": "2022-05-13T02:51:28.537810Z",
     "shell.execute_reply": "2022-05-13T02:51:28.537030Z"
    },
    "papermill": {
     "duration": 0.725319,
     "end_time": "2022-05-13T02:51:28.540370",
     "exception": false,
     "start_time": "2022-05-13T02:51:27.815051",
     "status": "completed"
    },
    "tags": []
   },
   "outputs": [
    {
     "data": {
      "text/plain": [
       "<seaborn.axisgrid.FacetGrid at 0x7fd2dd4fd050>"
      ]
     },
     "execution_count": 19,
     "metadata": {},
     "output_type": "execute_result"
    },
    {
     "data": {
      "image/png": "[encoded data removed]",
      "text/plain": [
       "<Figure size 1296x432 with 3 Axes>"
      ]
     },
     "metadata": {
      "needs_background": "light"
     },
     "output_type": "display_data"
    }
   ],
   "source": [
    "sns.factorplot(x='Sex',y='Survived',col='Pclass',data=df_train, satureation=.5,size=6,aspect=1)"
   ]
  },
  {
   "cell_type": "markdown",
   "id": "f409c168",
   "metadata": {
    "papermill": {
     "duration": 0.079542,
     "end_time": "2022-05-13T02:51:28.699942",
     "exception": false,
     "start_time": "2022-05-13T02:51:28.620400",
     "status": "completed"
    },
    "tags": []
   },
   "source": [
    "**2.4 Age**"
   ]
  },
  {
   "cell_type": "code",
   "execution_count": 20,
   "id": "612269f9",
   "metadata": {
    "execution": {
     "iopub.execute_input": "2022-05-13T02:51:28.860988Z",
     "iopub.status.busy": "2022-05-13T02:51:28.860652Z",
     "iopub.status.idle": "2022-05-13T02:51:28.868933Z",
     "shell.execute_reply": "2022-05-13T02:51:28.867698Z"
    },
    "papermill": {
     "duration": 0.091218,
     "end_time": "2022-05-13T02:51:28.870796",
     "exception": false,
     "start_time": "2022-05-13T02:51:28.779578",
     "status": "completed"
    },
    "tags": []
   },
   "outputs": [
    {
     "name": "stdout",
     "output_type": "stream",
     "text": [
      "나이가 가장 많은 탑승객 : 80.0 Years\n",
      "나이가 적은 많은 탑승객 : 0.4 Years\n",
      "탑승객 평균 나이 : 29.7 Years\n"
     ]
    }
   ],
   "source": [
    "print('나이가 가장 많은 탑승객 : {:.1f} Years'.format(df_train['Age'].max()))\n",
    "print('나이가 적은 많은 탑승객 : {:.1f} Years'.format(df_train['Age'].min()))\n",
    "print('탑승객 평균 나이 : {:.1f} Years'.format(df_train['Age'].mean()))"
   ]
  },
  {
   "cell_type": "markdown",
   "id": "849aee4b",
   "metadata": {
    "papermill": {
     "duration": 0.052975,
     "end_time": "2022-05-13T02:51:28.976285",
     "exception": false,
     "start_time": "2022-05-13T02:51:28.923310",
     "status": "completed"
    },
    "tags": []
   },
   "source": [
    "- 나이에 따른 생존 histogram"
   ]
  },
  {
   "cell_type": "code",
   "execution_count": 21,
   "id": "bffd58d2",
   "metadata": {
    "execution": {
     "iopub.execute_input": "2022-05-13T02:51:29.087200Z",
     "iopub.status.busy": "2022-05-13T02:51:29.086440Z",
     "iopub.status.idle": "2022-05-13T02:51:29.286679Z",
     "shell.execute_reply": "2022-05-13T02:51:29.286098Z"
    },
    "papermill": {
     "duration": 0.259913,
     "end_time": "2022-05-13T02:51:29.288703",
     "exception": false,
     "start_time": "2022-05-13T02:51:29.028790",
     "status": "completed"
    },
    "tags": []
   },
   "outputs": [
    {
     "data": {
      "image/png": "[encoded data removed]",
      "text/plain": [
       "<Figure size 648x360 with 1 Axes>"
      ]
     },
     "metadata": {
      "needs_background": "light"
     },
     "output_type": "display_data"
    }
   ],
   "source": [
    "fig, ax = plt.subplots(1,1, figsize=(9,5))\n",
    "sns.kdeplot(df_train[df_train['Survived'] == 1]['Age'],ax=ax)\n",
    "sns.kdeplot(df_train[df_train['Survived'] == 0]['Age'],ax=ax)\n",
    "plt.legend(['Survived == 1', 'Survived == 0'])\n",
    "plt.show()"
   ]
  },
  {
   "cell_type": "code",
   "execution_count": 22,
   "id": "fcbd65d3",
   "metadata": {
    "execution": {
     "iopub.execute_input": "2022-05-13T02:51:29.399519Z",
     "iopub.status.busy": "2022-05-13T02:51:29.399048Z",
     "iopub.status.idle": "2022-05-13T02:51:29.678735Z",
     "shell.execute_reply": "2022-05-13T02:51:29.678300Z"
    },
    "papermill": {
     "duration": 0.336373,
     "end_time": "2022-05-13T02:51:29.680610",
     "exception": false,
     "start_time": "2022-05-13T02:51:29.344237",
     "status": "completed"
    },
    "tags": []
   },
   "outputs": [
    {
     "data": {
      "text/plain": [
       "<matplotlib.legend.Legend at 0x7fd2dd3186d0>"
      ]
     },
     "execution_count": 22,
     "metadata": {},
     "output_type": "execute_result"
    },
    {
     "data": {
      "image/png": "[encoded data removed]",
      "text/plain": [
       "<Figure size 576x432 with 1 Axes>"
      ]
     },
     "metadata": {
      "needs_background": "light"
     },
     "output_type": "display_data"
    }
   ],
   "source": [
    "plt.figure(figsize=(8,6))\n",
    "df_train['Age'][df_train['Pclass'] == 1].plot(kind='kde')\n",
    "df_train['Age'][df_train['Pclass'] == 2].plot(kind='kde')\n",
    "df_train['Age'][df_train['Pclass'] == 3].plot(kind='kde')\n",
    "\n",
    "plt.xlabel('Age')\n",
    "plt.title('Age Distribution within classes')\n",
    "plt.legend(['1st Class', '2nd Class', '3rd Class'])"
   ]
  },
  {
   "cell_type": "code",
   "execution_count": 23,
   "id": "434bf67a",
   "metadata": {
    "execution": {
     "iopub.execute_input": "2022-05-13T02:51:29.793342Z",
     "iopub.status.busy": "2022-05-13T02:51:29.792569Z",
     "iopub.status.idle": "2022-05-13T02:51:30.027346Z",
     "shell.execute_reply": "2022-05-13T02:51:30.026702Z"
    },
    "papermill": {
     "duration": 0.292594,
     "end_time": "2022-05-13T02:51:30.028922",
     "exception": false,
     "start_time": "2022-05-13T02:51:29.736328",
     "status": "completed"
    },
    "tags": []
   },
   "outputs": [
    {
     "data": {
      "image/png": "[encoded data removed]",
      "text/plain": [
       "<Figure size 504x504 with 1 Axes>"
      ]
     },
     "metadata": {
      "needs_background": "light"
     },
     "output_type": "display_data"
    }
   ],
   "source": [
    "cummulate_survival_ratio = []\n",
    "for i in range(1,80):\n",
    "    cummulate_survival_ratio.append(df_train[df_train['Age'] < i]['Survived'].sum() / len(df_train[df_train['Age'] < i]['Survived']))\n",
    "plt.figure(figsize=(7,7))\n",
    "plt.plot(cummulate_survival_ratio)\n",
    "plt.title('Survival rate change depending on range of Age', y=1.01)\n",
    "plt.ylabel('Survival rate')\n",
    "plt.xlabel('Range of Age(0~x)')\n",
    "plt.show()"
   ]
  },
  {
   "cell_type": "markdown",
   "id": "8bd487db",
   "metadata": {
    "papermill": {
     "duration": 0.055708,
     "end_time": "2022-05-13T02:51:30.141708",
     "exception": false,
     "start_time": "2022-05-13T02:51:30.086000",
     "status": "completed"
    },
    "tags": []
   },
   "source": [
    "- 나이가 어릴수록 생존 확률히 월등히 높다. 따라서 중요한 feature로 사용 가능"
   ]
  },
  {
   "cell_type": "markdown",
   "id": "fbe52e4f",
   "metadata": {
    "papermill": {
     "duration": 0.058485,
     "end_time": "2022-05-13T02:51:30.256273",
     "exception": false,
     "start_time": "2022-05-13T02:51:30.197788",
     "status": "completed"
    },
    "tags": []
   },
   "source": [
    "**2.5 Embarked**\n",
    "- 탑승한 항구에 따른 생존률 확인"
   ]
  },
  {
   "cell_type": "code",
   "execution_count": 24,
   "id": "ef5d2792",
   "metadata": {
    "execution": {
     "iopub.execute_input": "2022-05-13T02:51:30.370814Z",
     "iopub.status.busy": "2022-05-13T02:51:30.370160Z",
     "iopub.status.idle": "2022-05-13T02:51:30.533184Z",
     "shell.execute_reply": "2022-05-13T02:51:30.532403Z"
    },
    "papermill": {
     "duration": 0.222138,
     "end_time": "2022-05-13T02:51:30.534926",
     "exception": false,
     "start_time": "2022-05-13T02:51:30.312788",
     "status": "completed"
    },
    "tags": []
   },
   "outputs": [
    {
     "data": {
      "text/plain": [
       "<AxesSubplot:xlabel='Embarked'>"
      ]
     },
     "execution_count": 24,
     "metadata": {},
     "output_type": "execute_result"
    },
    {
     "data": {
      "image/png": "[encoded data removed]",
      "text/plain": [
       "<Figure size 504x504 with 1 Axes>"
      ]
     },
     "metadata": {
      "needs_background": "light"
     },
     "output_type": "display_data"
    }
   ],
   "source": [
    "f, ax = plt.subplots(1,1,figsize=(7,7))\n",
    "df_train[['Embarked','Survived']].groupby(['Embarked'], as_index=True).mean().sort_values(by='Survived',ascending=False).plot.bar(ax=ax)"
   ]
  },
  {
   "cell_type": "markdown",
   "id": "6b73eee9",
   "metadata": {
    "papermill": {
     "duration": 0.05683,
     "end_time": "2022-05-13T02:51:30.648569",
     "exception": false,
     "start_time": "2022-05-13T02:51:30.591739",
     "status": "completed"
    },
    "tags": []
   },
   "source": [
    "- 조금의 차이는 있지만 생존률은 비슷\n",
    "- 모델에 얼마나 큰 영향을 미칠지는 확인할 수 없지만, 일단 사용"
   ]
  },
  {
   "cell_type": "code",
   "execution_count": 25,
   "id": "7bc84563",
   "metadata": {
    "execution": {
     "iopub.execute_input": "2022-05-13T02:51:30.769713Z",
     "iopub.status.busy": "2022-05-13T02:51:30.769193Z",
     "iopub.status.idle": "2022-05-13T02:51:31.352004Z",
     "shell.execute_reply": "2022-05-13T02:51:31.351455Z"
    },
    "papermill": {
     "duration": 0.647572,
     "end_time": "2022-05-13T02:51:31.353733",
     "exception": false,
     "start_time": "2022-05-13T02:51:30.706161",
     "status": "completed"
    },
    "tags": []
   },
   "outputs": [
    {
     "data": {
      "image/png": "[encoded data removed]",
      "text/plain": [
       "<Figure size 1440x1080 with 4 Axes>"
      ]
     },
     "metadata": {
      "needs_background": "light"
     },
     "output_type": "display_data"
    }
   ],
   "source": [
    "f, ax = plt.subplots(2,2,figsize=(20,15))\n",
    "\n",
    "sns.countplot('Embarked', data=df_train, ax=ax[0,0])\n",
    "ax[0,0].set_title('(1) No. Of Passengers Boarded')\n",
    "\n",
    "sns.countplot('Embarked', hue='Sex',data=df_train,ax=ax[0,1])\n",
    "ax[0,1].set_title('(2) Male-Female Split for Embarked')\n",
    "\n",
    "sns.countplot('Embarked', hue='Survived',data=df_train,ax=ax[1,0])\n",
    "ax[1,0].set_title('(3) Embarked vs Survived')\n",
    "\n",
    "sns.countplot('Embarked', hue='Pclass',data=df_train,ax=ax[1,1])\n",
    "ax[1,1].set_title('(4) Embarked vs Pclass')\n",
    "\n",
    "plt.subplots_adjust(wspace=0.2, hspace=0.5)\n",
    "plt.show()"
   ]
  },
  {
   "cell_type": "markdown",
   "id": "fb9946e6",
   "metadata": {
    "papermill": {
     "duration": 0.059733,
     "end_time": "2022-05-13T02:51:31.472748",
     "exception": false,
     "start_time": "2022-05-13T02:51:31.413015",
     "status": "completed"
    },
    "tags": []
   },
   "source": [
    "- Figure1 : 전체적으로 S에서 가장 많은 승객이 탑승\n",
    "- Figure2 : C와 Q는 남녀 비율이 비슷. S는 남자가 많음\n",
    "- Figure3 : S의 경우 생존 확률이 낮다. 남자가 S에서 많이 탄 것과 연관 있을 수 있음\n",
    "- Figure4 : Class 별로 split하여 확인한 결과 C에서 탑승한 승객의 생존률이 높은 것은, 클래스가 높기 때문"
   ]
  },
  {
   "cell_type": "markdown",
   "id": "9253bee5",
   "metadata": {
    "papermill": {
     "duration": 0.059371,
     "end_time": "2022-05-13T02:51:31.591562",
     "exception": false,
     "start_time": "2022-05-13T02:51:31.532191",
     "status": "completed"
    },
    "tags": []
   },
   "source": [
    "**2.7 Family - SibSp(형제 자매) + Parch(부모 자녀)**"
   ]
  },
  {
   "cell_type": "code",
   "execution_count": 26,
   "id": "d1dfb4c5",
   "metadata": {
    "execution": {
     "iopub.execute_input": "2022-05-13T02:51:31.710685Z",
     "iopub.status.busy": "2022-05-13T02:51:31.710288Z",
     "iopub.status.idle": "2022-05-13T02:51:31.716460Z",
     "shell.execute_reply": "2022-05-13T02:51:31.715907Z"
    },
    "papermill": {
     "duration": 0.067883,
     "end_time": "2022-05-13T02:51:31.718000",
     "exception": false,
     "start_time": "2022-05-13T02:51:31.650117",
     "status": "completed"
    },
    "tags": []
   },
   "outputs": [],
   "source": [
    "df_train['FamilySize'] = df_train['SibSp'] + df_train['Parch'] + 1 # 자기 자신을 포함하기 위한 +1\n",
    "df_test['FamilySize'] = df_test['SibSp'] + df_test['Parch'] + 1"
   ]
  },
  {
   "cell_type": "code",
   "execution_count": 27,
   "id": "4a45b6de",
   "metadata": {
    "execution": {
     "iopub.execute_input": "2022-05-13T02:51:31.843507Z",
     "iopub.status.busy": "2022-05-13T02:51:31.842782Z",
     "iopub.status.idle": "2022-05-13T02:51:31.849003Z",
     "shell.execute_reply": "2022-05-13T02:51:31.848006Z"
    },
    "papermill": {
     "duration": 0.07023,
     "end_time": "2022-05-13T02:51:31.851353",
     "exception": false,
     "start_time": "2022-05-13T02:51:31.781123",
     "status": "completed"
    },
    "tags": []
   },
   "outputs": [
    {
     "name": "stdout",
     "output_type": "stream",
     "text": [
      "Max size of Family:  11\n",
      "Min size of Family:  1\n"
     ]
    }
   ],
   "source": [
    "print('Max size of Family: ',df_train['FamilySize'].max())\n",
    "print('Min size of Family: ',df_train['FamilySize'].min())"
   ]
  },
  {
   "cell_type": "code",
   "execution_count": 28,
   "id": "1e6263f0",
   "metadata": {
    "execution": {
     "iopub.execute_input": "2022-05-13T02:51:31.974533Z",
     "iopub.status.busy": "2022-05-13T02:51:31.974136Z",
     "iopub.status.idle": "2022-05-13T02:51:32.527804Z",
     "shell.execute_reply": "2022-05-13T02:51:32.527037Z"
    },
    "papermill": {
     "duration": 0.614942,
     "end_time": "2022-05-13T02:51:32.529311",
     "exception": false,
     "start_time": "2022-05-13T02:51:31.914369",
     "status": "completed"
    },
    "tags": []
   },
   "outputs": [
    {
     "data": {
      "image/png": "[encoded data removed]",
      "text/plain": [
       "<Figure size 2160x720 with 3 Axes>"
      ]
     },
     "metadata": {
      "needs_background": "light"
     },
     "output_type": "display_data"
    }
   ],
   "source": [
    "f, ax = plt.subplots(1,3,figsize=(30,10))\n",
    "\n",
    "sns.countplot('FamilySize', data=df_train, ax=ax[0])\n",
    "ax[0].set_title('(1) Number of Passengers Boarded',y=1.02)\n",
    "\n",
    "sns.countplot('FamilySize', hue='Survived', data=df_train, ax=ax[1])\n",
    "ax[1].set_title('(2) Survived countplot depending on FamilySize',y=1.02)\n",
    "\n",
    "df_train[['FamilySize','Survived']].groupby(['FamilySize'], as_index=True).mean().sort_values(by='Survived',ascending=False).plot.bar(ax=ax[2])\n",
    "ax[2].set_title('(3) Survived rate depending on Family Size', y=1.02)\n",
    "\n",
    "plt.subplots_adjust(wspace=0.2, hspace=0.5)\n",
    "plt.show()"
   ]
  },
  {
   "cell_type": "markdown",
   "id": "2a0f5e10",
   "metadata": {
    "papermill": {
     "duration": 0.05979,
     "end_time": "2022-05-13T02:51:32.647976",
     "exception": false,
     "start_time": "2022-05-13T02:51:32.588186",
     "status": "completed"
    },
    "tags": []
   },
   "source": [
    "- 가족이 4명인 경우 생존 확률이 가장 높음"
   ]
  },
  {
   "cell_type": "markdown",
   "id": "c75899e7",
   "metadata": {
    "papermill": {
     "duration": 0.059608,
     "end_time": "2022-05-13T02:51:32.768758",
     "exception": false,
     "start_time": "2022-05-13T02:51:32.709150",
     "status": "completed"
    },
    "tags": []
   },
   "source": [
    "**2.8 Fare**\n",
    "- 탑승 요금에 따른 histogram"
   ]
  },
  {
   "cell_type": "code",
   "execution_count": 29,
   "id": "b1970844",
   "metadata": {
    "execution": {
     "iopub.execute_input": "2022-05-13T02:51:32.891415Z",
     "iopub.status.busy": "2022-05-13T02:51:32.890942Z",
     "iopub.status.idle": "2022-05-13T02:51:33.164446Z",
     "shell.execute_reply": "2022-05-13T02:51:33.163882Z"
    },
    "papermill": {
     "duration": 0.33704,
     "end_time": "2022-05-13T02:51:33.166464",
     "exception": false,
     "start_time": "2022-05-13T02:51:32.829424",
     "status": "completed"
    },
    "tags": []
   },
   "outputs": [
    {
     "data": {
      "image/png": "[encoded data removed]",
      "text/plain": [
       "<Figure size 576x576 with 1 Axes>"
      ]
     },
     "metadata": {
      "needs_background": "light"
     },
     "output_type": "display_data"
    }
   ],
   "source": [
    "fig, ax = plt.subplots(1,1,figsize=(8,8))\n",
    "g = sns.distplot(df_train['Fare'], color='b', label='Skewness : {:.2f}'.format(df_train['Fare'].skew()),ax=ax)\n",
    "g=g.legend(loc='best')"
   ]
  },
  {
   "cell_type": "markdown",
   "id": "b522dccb",
   "metadata": {
    "papermill": {
     "duration": 0.06021,
     "end_time": "2022-05-13T02:51:33.287035",
     "exception": false,
     "start_time": "2022-05-13T02:51:33.226825",
     "status": "completed"
    },
    "tags": []
   },
   "source": [
    "- Distribution이 매우 비대칭(High skewness). 이 상태로 모델에 넣는다면 자칫 모델이 잘못 학습할 수 있음.\n",
    "- outlier의 영향을 줄이기 위해 Fare에 log 취하기\n",
    "- Fare column의 모든 데이터를 log 취하기 위해 lambda 함수를 이용하여 map에 인수로 넣어주면 데이터에 그대로 적용"
   ]
  },
  {
   "cell_type": "code",
   "execution_count": 30,
   "id": "1eea72f6",
   "metadata": {
    "execution": {
     "iopub.execute_input": "2022-05-13T02:51:33.411048Z",
     "iopub.status.busy": "2022-05-13T02:51:33.410568Z",
     "iopub.status.idle": "2022-05-13T02:51:33.417906Z",
     "shell.execute_reply": "2022-05-13T02:51:33.417453Z"
    },
    "papermill": {
     "duration": 0.071475,
     "end_time": "2022-05-13T02:51:33.419719",
     "exception": false,
     "start_time": "2022-05-13T02:51:33.348244",
     "status": "completed"
    },
    "tags": []
   },
   "outputs": [],
   "source": [
    "df_test.loc[df_test.Fare.isnull(),'Fare'] = df_test['Fare'].mean()\n",
    "\n",
    "df_train['Fare'] = df_train['Fare'].map(lambda i: np.log(i) if i > 0 else 0)\n",
    "df_test['Fare'] = df_test['Fare'].map(lambda i: np.log(i) if i > 0 else 0)"
   ]
  },
  {
   "cell_type": "code",
   "execution_count": 31,
   "id": "a497eef9",
   "metadata": {
    "execution": {
     "iopub.execute_input": "2022-05-13T02:51:33.544101Z",
     "iopub.status.busy": "2022-05-13T02:51:33.543805Z",
     "iopub.status.idle": "2022-05-13T02:51:33.811505Z",
     "shell.execute_reply": "2022-05-13T02:51:33.810379Z"
    },
    "papermill": {
     "duration": 0.332382,
     "end_time": "2022-05-13T02:51:33.813228",
     "exception": false,
     "start_time": "2022-05-13T02:51:33.480846",
     "status": "completed"
    },
    "tags": []
   },
   "outputs": [
    {
     "data": {
      "image/png": "[encoded data removed]",
      "text/plain": [
       "<Figure size 576x576 with 1 Axes>"
      ]
     },
     "metadata": {
      "needs_background": "light"
     },
     "output_type": "display_data"
    }
   ],
   "source": [
    "fig, ax = plt.subplots(1,1,figsize=(8,8))\n",
    "g = sns.distplot(df_train['Fare'], color='b', label='Skewness : {:.2f}'.format(df_train['Fare'].skew()),ax=ax)\n",
    "g=g.legend(loc='best')"
   ]
  },
  {
   "cell_type": "markdown",
   "id": "d7990595",
   "metadata": {
    "papermill": {
     "duration": 0.061192,
     "end_time": "2022-05-13T02:51:33.935623",
     "exception": false,
     "start_time": "2022-05-13T02:51:33.874431",
     "status": "completed"
    },
    "tags": []
   },
   "source": [
    "- log를 취하면서 비대칭성이 많이 사라짐\n",
    "- 위와 같이 모델의 성능을 높이기 위해 feature들에 조작을 가하거나, 새로운 feature를 추가하는 것을 feature engineering이라고 한다"
   ]
  }
 ],
 "metadata": {
  "kernelspec": {
   "display_name": "Python 3",
   "language": "python",
   "name": "python3"
  },
  "language_info": {
   "codemirror_mode": {
    "name": "ipython",
    "version": 3
   },
   "file_extension": ".py",
   "mimetype": "text/x-python",
   "name": "python",
   "nbconvert_exporter": "python",
   "pygments_lexer": "ipython3",
   "version": "3.7.12"
  },
  "papermill": {
   "default_parameters": {},
   "duration": 25.28993,
   "end_time": "2022-05-13T02:51:35.017026",
   "environment_variables": {},
   "exception": null,
   "input_path": "__notebook__.ipynb",
   "output_path": "__notebook__.ipynb",
   "parameters": {},
   "start_time": "2022-05-13T02:51:09.727096",
   "version": "2.3.4"
  }
 },
 "nbformat": 4,
 "nbformat_minor": 5
}
